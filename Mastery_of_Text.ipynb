{
 "cells": [
  {
   "cell_type": "code",
   "execution_count": 15,
   "id": "974bd412-1d24-46c5-871f-980728dd1d1b",
   "metadata": {},
   "outputs": [],
   "source": [
    "import urllib.request\n",
    "\n",
    "response = urllib.request.urlopen('https://www.gutenberg.org/cache/epub/10/pg10.txt')\n",
    "pg10 = response.read().decode('utf-8')"
   ]
  },
  {
   "cell_type": "code",
   "execution_count": 4,
   "id": "b317f4f0-215c-4b9e-ab49-845c6f75fe2e",
   "metadata": {},
   "outputs": [
    {
     "data": {
      "text/plain": [
       "99968"
      ]
     },
     "execution_count": 4,
     "metadata": {},
     "output_type": "execute_result"
    }
   ],
   "source": [
    "# How many lines does the string have?\n",
    "len(pg10.splitlines())"
   ]
  },
  {
   "cell_type": "code",
   "execution_count": 17,
   "id": "1469600e-c905-4838-a483-bbcabfbf9512",
   "metadata": {},
   "outputs": [
    {
     "data": {
      "text/plain": [
       "795228"
      ]
     },
     "execution_count": 17,
     "metadata": {},
     "output_type": "execute_result"
    }
   ],
   "source": [
    "# How many words does the string have? (where a word is any set of directly-adjacent alphabet characters)\n",
    "words = []\n",
    "word = ''\n",
    "\n",
    "for i in pg10:\n",
    "    if i.isalpha():\n",
    "        word += i\n",
    "    else:\n",
    "        if word != '':\n",
    "            words.append(word)\n",
    "            word = ''\n",
    "if words != '':\n",
    "    words.append(word)\n",
    "\n",
    "len(words)"
   ]
  },
  {
   "cell_type": "code",
   "execution_count": 13,
   "id": "b45da232-e5a7-4db2-ab02-c2843ea4715f",
   "metadata": {},
   "outputs": [
    {
     "data": {
      "text/plain": [
       "47"
      ]
     },
     "execution_count": 13,
     "metadata": {},
     "output_type": "execute_result"
    }
   ],
   "source": [
    "# How many times does the word \"apostle\", ignoring capitalization, appear in the string?\n",
    "no_apostle = 0\n",
    "\n",
    "for i in words:\n",
    "    if i.lower() == 'apostle':\n",
    "        no_apostle += 1\n",
    "\n",
    "no_apostle "
   ]
  },
  {
   "cell_type": "code",
   "execution_count": 14,
   "id": "c0a204ca-a13a-440a-a400-bfc220c88cdd",
   "metadata": {},
   "outputs": [
    {
     "data": {
      "text/plain": [
       "'the'"
      ]
     },
     "execution_count": 14,
     "metadata": {},
     "output_type": "execute_result"
    }
   ],
   "source": [
    "# What is the most common word, ignoring capitalization, in the string? (where a word is any set of directly-adjacent alphabet characters)\n",
    "word_counts = {}\n",
    "for i in words:\n",
    "    if i.lower() in word_counts:\n",
    "        word_counts[i.lower()] += 1\n",
    "    else:\n",
    "        word_counts[i.lower()] = 1\n",
    "\n",
    "most_common_word = ''\n",
    "most_common_count = 0\n",
    "for i in word_counts:\n",
    "    if word_counts[i] > most_common_count:\n",
    "        most_common_word = i\n",
    "        most_common_count = word_counts[i]\n",
    "\n",
    "most_common_word"
   ]
  }
 ],
 "metadata": {
  "kernelspec": {
   "display_name": "Python [conda env:base] *",
   "language": "python",
   "name": "conda-base-py"
  },
  "language_info": {
   "codemirror_mode": {
    "name": "ipython",
    "version": 3
   },
   "file_extension": ".py",
   "mimetype": "text/x-python",
   "name": "python",
   "nbconvert_exporter": "python",
   "pygments_lexer": "ipython3",
   "version": "3.12.7"
  }
 },
 "nbformat": 4,
 "nbformat_minor": 5
}
