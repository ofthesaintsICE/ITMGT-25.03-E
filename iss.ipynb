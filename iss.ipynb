{
 "cells": [
  {
   "cell_type": "code",
   "execution_count": 2,
   "id": "06fe4149-85f5-4f6c-a8c3-46b31bda3b4f",
   "metadata": {},
   "outputs": [],
   "source": [
    "import time\n",
    "import requests\n",
    "import matplotlib.pyplot as plt"
   ]
  },
  {
   "cell_type": "code",
   "execution_count": 3,
   "id": "08364c1a-eadb-4815-8beb-ebcae69d600f",
   "metadata": {},
   "outputs": [
    {
     "name": "stdout",
     "output_type": "stream",
     "text": [
      "ping 1 / time: 21:32:50 / latitude: -26.49 / longitude: 65.88\n",
      "ping 2 / time: 21:32:57 / latitude: -26.16 / longitude: 66.2\n",
      "ping 3 / time: 21:33:03 / latitude: -25.88 / longitude: 66.47\n",
      "ping 4 / time: 21:33:10 / latitude: -25.55 / longitude: 66.78\n",
      "ping 5 / time: 21:33:18 / latitude: -25.18 / longitude: 67.14\n",
      "ping 6 / time: 21:33:25 / latitude: -24.84 / longitude: 67.45\n",
      "ping 7 / time: 21:33:32 / latitude: -24.51 / longitude: 67.76\n",
      "ping 8 / time: 21:33:39 / latitude: -24.18 / longitude: 68.07\n",
      "ping 9 / time: 21:33:45 / latitude: -23.89 / longitude: 68.33\n",
      "ping 10 / time: 21:33:51 / latitude: -23.61 / longitude: 68.6\n",
      "ping 11 / time: 21:33:59 / latitude: -23.22 / longitude: 68.94\n",
      "ping 12 / time: 21:34:05 / latitude: -22.94 / longitude: 69.2\n",
      "ping 13 / time: 21:34:12 / latitude: -22.6 / longitude: 69.5\n",
      "ping 14 / time: 21:34:19 / latitude: -22.26 / longitude: 69.8\n",
      "ping 15 / time: 21:34:26 / latitude: -21.93 / longitude: 70.1\n",
      "ping 16 / time: 21:34:34 / latitude: -21.54 / longitude: 70.43\n",
      "ping 17 / time: 21:34:40 / latitude: -21.25 / longitude: 70.69\n",
      "ping 18 / time: 21:34:47 / latitude: -20.91 / longitude: 70.98\n",
      "ping 19 / time: 21:34:54 / latitude: -20.57 / longitude: 71.27\n",
      "ping 20 / time: 21:35:01 / latitude: -20.23 / longitude: 71.56\n",
      "ping 21 / time: 21:35:08 / latitude: -19.89 / longitude: 71.85\n",
      "ping 22 / time: 21:35:15 / latitude: -19.55 / longitude: 72.13\n",
      "ping 23 / time: 21:35:21 / latitude: -19.25 / longitude: 72.38\n",
      "ping 24 / time: 21:35:28 / latitude: -18.91 / longitude: 72.66\n",
      "ping 25 / time: 21:35:35 / latitude: -18.57 / longitude: 72.95\n",
      "ping 26 / time: 21:35:42 / latitude: -18.22 / longitude: 73.23\n",
      "ping 27 / time: 21:35:48 / latitude: -17.93 / longitude: 73.47\n",
      "ping 28 / time: 21:35:55 / latitude: -17.58 / longitude: 73.75\n",
      "ping 29 / time: 21:36:01 / latitude: -17.29 / longitude: 73.99\n",
      "ping 30 / time: 21:36:08 / latitude: -16.94 / longitude: 74.27\n",
      "ping 31 / time: 21:36:14 / latitude: -16.64 / longitude: 74.5\n",
      "ping 32 / time: 21:36:21 / latitude: -16.3 / longitude: 74.78\n",
      "ping 33 / time: 21:36:27 / latitude: -16.0 / longitude: 75.01\n",
      "ping 34 / time: 21:36:34 / latitude: -15.65 / longitude: 75.29\n",
      "ping 35 / time: 21:36:40 / latitude: -15.35 / longitude: 75.52\n",
      "ping 36 / time: 21:36:47 / latitude: -15.0 / longitude: 75.79\n",
      "ping 37 / time: 21:36:54 / latitude: -14.66 / longitude: 76.06\n",
      "ping 38 / time: 21:37:01 / latitude: -14.31 / longitude: 76.33\n",
      "ping 39 / time: 21:37:07 / latitude: -14.01 / longitude: 76.56\n",
      "ping 40 / time: 21:37:14 / latitude: -13.66 / longitude: 76.83\n",
      "ping 41 / time: 21:37:20 / latitude: -13.36 / longitude: 77.06\n",
      "ping 42 / time: 21:37:27 / latitude: -13.01 / longitude: 77.33\n",
      "ping 43 / time: 21:37:34 / latitude: -12.65 / longitude: 77.59\n",
      "ping 44 / time: 21:37:41 / latitude: -12.3 / longitude: 77.86\n",
      "ping 45 / time: 21:37:47 / latitude: -12.0 / longitude: 78.09\n",
      "ping 46 / time: 21:37:55 / latitude: -11.6 / longitude: 78.39\n",
      "ping 47 / time: 21:38:02 / latitude: -11.25 / longitude: 78.65\n",
      "ping 48 / time: 21:38:08 / latitude: -10.95 / longitude: 78.87\n",
      "ping 49 / time: 21:38:15 / latitude: -10.59 / longitude: 79.14\n",
      "ping 50 / time: 21:38:22 / latitude: -10.24 / longitude: 79.4\n",
      "ping 51 / time: 21:38:29 / latitude: -9.89 / longitude: 79.66\n",
      "ping 52 / time: 21:38:36 / latitude: -9.53 / longitude: 79.92\n",
      "ping 53 / time: 21:38:42 / latitude: -9.23 / longitude: 80.14\n",
      "ping 54 / time: 21:38:48 / latitude: -8.93 / longitude: 80.36\n",
      "ping 55 / time: 21:38:56 / latitude: -8.52 / longitude: 80.65\n",
      "ping 56 / time: 21:39:04 / latitude: -8.12 / longitude: 80.95\n",
      "ping 57 / time: 21:39:10 / latitude: -7.81 / longitude: 81.17\n",
      "ping 58 / time: 21:39:20 / latitude: -7.3 / longitude: 81.53\n",
      "ping 59 / time: 21:39:27 / latitude: -6.95 / longitude: 81.79\n",
      "ping 60 / time: 21:39:33 / latitude: -6.64 / longitude: 82.01\n",
      "ping 61 / time: 21:39:39 / latitude: -6.34 / longitude: 82.23\n",
      "ping 62 / time: 21:39:45 / latitude: -6.03 / longitude: 82.45\n",
      "ping 63 / time: 21:39:52 / latitude: -5.68 / longitude: 82.7\n",
      "ping 64 / time: 21:39:58 / latitude: -5.37 / longitude: 82.92\n",
      "ping 65 / time: 21:40:04 / latitude: -5.07 / longitude: 83.14\n",
      "ping 66 / time: 21:40:11 / latitude: -4.71 / longitude: 83.39\n",
      "ping 67 / time: 21:40:18 / latitude: -4.36 / longitude: 83.64\n",
      "ping 68 / time: 21:40:24 / latitude: -4.05 / longitude: 83.86\n",
      "ping 69 / time: 21:40:31 / latitude: -3.69 / longitude: 84.11\n",
      "ping 70 / time: 21:40:38 / latitude: -3.34 / longitude: 84.36\n",
      "ping 71 / time: 21:40:44 / latitude: -3.03 / longitude: 84.58\n",
      "ping 72 / time: 21:40:51 / latitude: -2.67 / longitude: 84.83\n",
      "ping 73 / time: 21:40:58 / latitude: -2.32 / longitude: 85.08\n",
      "ping 74 / time: 21:41:04 / latitude: -2.01 / longitude: 85.3\n",
      "ping 75 / time: 21:41:10 / latitude: -1.71 / longitude: 85.52\n",
      "ping 76 / time: 21:41:17 / latitude: -1.35 / longitude: 85.77\n",
      "ping 77 / time: 21:41:23 / latitude: -1.04 / longitude: 85.98\n",
      "ping 78 / time: 21:41:29 / latitude: -0.74 / longitude: 86.2\n",
      "ping 79 / time: 21:41:36 / latitude: -0.38 / longitude: 86.45\n",
      "ping 80 / time: 21:41:42 / latitude: -0.07 / longitude: 86.67\n",
      "ping 81 / time: 21:41:48 / latitude: 0.23 / longitude: 86.88\n",
      "ping 82 / time: 21:41:55 / latitude: 0.59 / longitude: 87.13\n",
      "ping 83 / time: 21:42:01 / latitude: 0.9 / longitude: 87.35\n",
      "ping 84 / time: 21:42:08 / latitude: 1.25 / longitude: 87.6\n",
      "ping 85 / time: 21:42:14 / latitude: 1.56 / longitude: 87.82\n",
      "ping 86 / time: 21:42:21 / latitude: 1.92 / longitude: 88.07\n",
      "ping 87 / time: 21:42:28 / latitude: 2.27 / longitude: 88.32\n",
      "ping 88 / time: 21:42:36 / latitude: 2.68 / longitude: 88.61\n",
      "ping 89 / time: 21:42:42 / latitude: 2.99 / longitude: 88.82\n",
      "ping 90 / time: 21:42:48 / latitude: 3.29 / longitude: 89.04\n",
      "ping 91 / time: 21:42:55 / latitude: 3.65 / longitude: 89.29\n",
      "ping 92 / time: 21:43:02 / latitude: 4.01 / longitude: 89.55\n",
      "ping 93 / time: 21:43:09 / latitude: 4.36 / longitude: 89.8\n",
      "ping 94 / time: 21:43:15 / latitude: 4.67 / longitude: 90.02\n",
      "ping 95 / time: 21:43:21 / latitude: 4.97 / longitude: 90.23\n",
      "ping 96 / time: 21:43:28 / latitude: 5.33 / longitude: 90.49\n",
      "ping 97 / time: 21:43:34 / latitude: 5.64 / longitude: 90.71\n",
      "ping 98 / time: 21:43:41 / latitude: 5.99 / longitude: 90.96\n",
      "ping 99 / time: 21:43:47 / latitude: 6.3 / longitude: 91.18\n",
      "ping 100 / time: 21:43:54 / latitude: 6.65 / longitude: 91.43\n"
     ]
    }
   ],
   "source": [
    "iss_data = []\n",
    "\n",
    "for i in range(100):\n",
    "    data = requests.get('https://api.wheretheiss.at/v1/satellites/25544').json()\n",
    "    timestamp = time.strftime('%H:%M:%S', time.localtime(data['timestamp']))\n",
    "    lat = round(data['latitude'], 2)\n",
    "    long = round(data['longitude'], 2)\n",
    "    \n",
    "    iss_data.append({\n",
    "        'time': data['timestamp'],\n",
    "        'lat': data['latitude'],\n",
    "        'long': data['longitude']\n",
    "    })\n",
    "\n",
    "    print(f\"ping {i+1} / time: {timestamp} / latitude: {lat} / longitude: {long}\", flush=True)\n",
    "    \n",
    "    time.sleep(5)"
   ]
  },
  {
   "cell_type": "code",
   "execution_count": 4,
   "id": "1def0e4e-b7b5-4cf0-b305-5a93583d1e62",
   "metadata": {},
   "outputs": [
    {
     "data": {
      "image/png": "[encoded data removed]",
      "text/plain": [
       "<Figure size 640x480 with 1 Axes>"
      ]
     },
     "metadata": {},
     "output_type": "display_data"
    }
   ],
   "source": [
    "lats = [point['lat'] for point in iss_data]\n",
    "longs = [point['long'] for point in iss_data]\n",
    "\n",
    "plt.plot(longs, lats)\n",
    "plt.title(\"ISS Path\")\n",
    "plt.xlabel(\"Longitude\")\n",
    "plt.ylabel(\"Latitude\")\n",
    "plt.grid()\n",
    "plt.show()"
   ]
  },
  {
   "cell_type": "code",
   "execution_count": null,
   "id": "e89023ae-57a7-4a66-b1f3-c935e93d791e",
   "metadata": {},
   "outputs": [],
   "source": []
  }
 ],
 "metadata": {
  "kernelspec": {
   "display_name": "Python [conda env:base] *",
   "language": "python",
   "name": "conda-base-py"
  },
  "language_info": {
   "codemirror_mode": {
    "name": "ipython",
    "version": 3
   },
   "file_extension": ".py",
   "mimetype": "text/x-python",
   "name": "python",
   "nbconvert_exporter": "python",
   "pygments_lexer": "ipython3",
   "version": "3.12.7"
  }
 },
 "nbformat": 4,
 "nbformat_minor": 5
}
