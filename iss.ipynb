{
 "cells": [
  {
   "cell_type": "code",
   "execution_count": 2,
   "id": "7638a6d5-6744-4685-a90d-a63a1ad90fb0",
   "metadata": {},
   "outputs": [
    {
     "name": "stdout",
     "output_type": "stream",
     "text": [
      "Requirement already satisfied: requests in c:\\users\\isaac\\anaconda3\\lib\\site-packages (2.32.3)\n",
      "Requirement already satisfied: matplotlib in c:\\users\\isaac\\anaconda3\\lib\\site-packages (3.9.2)\n",
      "Requirement already satisfied: charset-normalizer<4,>=2 in c:\\users\\isaac\\anaconda3\\lib\\site-packages (from requests) (3.3.2)\n",
      "Requirement already satisfied: idna<4,>=2.5 in c:\\users\\isaac\\anaconda3\\lib\\site-packages (from requests) (3.7)\n",
      "Requirement already satisfied: urllib3<3,>=1.21.1 in c:\\users\\isaac\\anaconda3\\lib\\site-packages (from requests) (2.2.3)\n",
      "Requirement already satisfied: certifi>=2017.4.17 in c:\\users\\isaac\\anaconda3\\lib\\site-packages (from requests) (2025.4.26)\n",
      "Requirement already satisfied: contourpy>=1.0.1 in c:\\users\\isaac\\anaconda3\\lib\\site-packages (from matplotlib) (1.2.0)\n",
      "Requirement already satisfied: cycler>=0.10 in c:\\users\\isaac\\anaconda3\\lib\\site-packages (from matplotlib) (0.11.0)\n",
      "Requirement already satisfied: fonttools>=4.22.0 in c:\\users\\isaac\\anaconda3\\lib\\site-packages (from matplotlib) (4.51.0)\n",
      "Requirement already satisfied: kiwisolver>=1.3.1 in c:\\users\\isaac\\anaconda3\\lib\\site-packages (from matplotlib) (1.4.4)\n",
      "Requirement already satisfied: numpy>=1.23 in c:\\users\\isaac\\anaconda3\\lib\\site-packages (from matplotlib) (1.26.4)\n",
      "Requirement already satisfied: packaging>=20.0 in c:\\users\\isaac\\anaconda3\\lib\\site-packages (from matplotlib) (24.1)\n",
      "Requirement already satisfied: pillow>=8 in c:\\users\\isaac\\anaconda3\\lib\\site-packages (from matplotlib) (10.4.0)\n",
      "Requirement already satisfied: pyparsing>=2.3.1 in c:\\users\\isaac\\anaconda3\\lib\\site-packages (from matplotlib) (3.1.2)\n",
      "Requirement already satisfied: python-dateutil>=2.7 in c:\\users\\isaac\\anaconda3\\lib\\site-packages (from matplotlib) (2.9.0.post0)\n",
      "Requirement already satisfied: six>=1.5 in c:\\users\\isaac\\anaconda3\\lib\\site-packages (from python-dateutil>=2.7->matplotlib) (1.16.0)\n"
     ]
    }
   ],
   "source": [
    "!pip install requests matplotlib"
   ]
  },
  {
   "cell_type": "code",
   "execution_count": 1,
   "id": "06fe4149-85f5-4f6c-a8c3-46b31bda3b4f",
   "metadata": {},
   "outputs": [],
   "source": [
    "import time\n",
    "import requests\n",
    "import matplotlib.pyplot as plt"
   ]
  },
  {
   "cell_type": "code",
   "execution_count": 2,
   "id": "08364c1a-eadb-4815-8beb-ebcae69d600f",
   "metadata": {},
   "outputs": [
    {
     "name": "stdout",
     "output_type": "stream",
     "text": [
      "ping 1 / time: 20:26:22 / latitude: -44.39 / longitude: -17.8\n",
      "ping 2 / time: 20:26:29 / latitude: -44.61 / longitude: -17.28\n",
      "ping 3 / time: 20:26:35 / latitude: -44.8 / longitude: -16.83\n",
      "ping 4 / time: 20:26:42 / latitude: -45.02 / longitude: -16.31\n",
      "ping 5 / time: 20:26:48 / latitude: -45.21 / longitude: -15.85\n",
      "ping 6 / time: 20:26:55 / latitude: -45.42 / longitude: -15.32\n",
      "ping 7 / time: 20:27:01 / latitude: -45.6 / longitude: -14.86\n",
      "ping 8 / time: 20:27:08 / latitude: -45.81 / longitude: -14.32\n",
      "ping 9 / time: 20:27:15 / latitude: -46.02 / longitude: -13.77\n",
      "ping 10 / time: 20:27:22 / latitude: -46.22 / longitude: -13.22\n",
      "ping 11 / time: 20:27:28 / latitude: -46.39 / longitude: -12.74\n",
      "ping 12 / time: 20:27:35 / latitude: -46.59 / longitude: -12.19\n",
      "ping 13 / time: 20:27:41 / latitude: -46.76 / longitude: -11.7\n",
      "ping 14 / time: 20:27:47 / latitude: -46.92 / longitude: -11.22\n",
      "ping 15 / time: 20:27:53 / latitude: -47.09 / longitude: -10.73\n",
      "ping 16 / time: 20:27:59 / latitude: -47.25 / longitude: -10.24\n",
      "ping 17 / time: 20:28:07 / latitude: -47.46 / longitude: -9.58\n",
      "ping 18 / time: 20:28:13 / latitude: -47.61 / longitude: -9.08\n",
      "ping 19 / time: 20:28:20 / latitude: -47.79 / longitude: -8.5\n",
      "ping 20 / time: 20:28:26 / latitude: -47.94 / longitude: -7.99\n",
      "ping 21 / time: 20:28:33 / latitude: -48.11 / longitude: -7.4\n",
      "ping 22 / time: 20:28:39 / latitude: -48.25 / longitude: -6.89\n",
      "ping 23 / time: 20:28:45 / latitude: -48.39 / longitude: -6.37\n",
      "ping 24 / time: 20:28:51 / latitude: -48.53 / longitude: -5.85\n",
      "ping 25 / time: 20:28:57 / latitude: -48.67 / longitude: -5.33\n",
      "ping 26 / time: 20:29:04 / latitude: -48.83 / longitude: -4.72\n",
      "ping 27 / time: 20:29:10 / latitude: -48.96 / longitude: -4.2\n",
      "ping 28 / time: 20:29:17 / latitude: -49.11 / longitude: -3.58\n",
      "ping 29 / time: 20:29:23 / latitude: -49.23 / longitude: -3.04\n",
      "ping 30 / time: 20:29:29 / latitude: -49.35 / longitude: -2.51\n",
      "ping 31 / time: 20:29:36 / latitude: -49.49 / longitude: -1.88\n",
      "ping 32 / time: 20:29:43 / latitude: -49.63 / longitude: -1.25\n",
      "ping 33 / time: 20:29:49 / latitude: -49.74 / longitude: -0.7\n",
      "ping 34 / time: 20:29:56 / latitude: -49.87 / longitude: -0.06\n",
      "ping 35 / time: 20:30:02 / latitude: -49.98 / longitude: 0.49\n",
      "ping 36 / time: 20:30:09 / latitude: -50.1 / longitude: 1.13\n",
      "ping 37 / time: 20:30:16 / latitude: -50.22 / longitude: 1.78\n",
      "ping 38 / time: 20:30:22 / latitude: -50.31 / longitude: 2.34\n",
      "ping 39 / time: 20:30:29 / latitude: -50.42 / longitude: 2.99\n",
      "ping 40 / time: 20:30:36 / latitude: -50.53 / longitude: 3.65\n",
      "ping 41 / time: 20:30:42 / latitude: -50.62 / longitude: 4.22\n",
      "ping 42 / time: 20:30:49 / latitude: -50.72 / longitude: 4.88\n",
      "ping 43 / time: 20:30:55 / latitude: -50.8 / longitude: 5.45\n",
      "ping 44 / time: 20:31:01 / latitude: -50.87 / longitude: 6.02\n",
      "ping 45 / time: 20:31:07 / latitude: -50.95 / longitude: 6.6\n",
      "ping 46 / time: 20:31:14 / latitude: -51.03 / longitude: 7.27\n",
      "ping 47 / time: 20:31:21 / latitude: -51.11 / longitude: 7.95\n",
      "ping 48 / time: 20:31:27 / latitude: -51.18 / longitude: 8.53\n",
      "ping 49 / time: 20:31:34 / latitude: -51.25 / longitude: 9.21\n",
      "ping 50 / time: 20:31:40 / latitude: -51.31 / longitude: 9.79\n",
      "ping 51 / time: 20:31:47 / latitude: -51.37 / longitude: 10.48\n",
      "ping 52 / time: 20:31:53 / latitude: -51.42 / longitude: 11.06\n",
      "ping 53 / time: 20:32:00 / latitude: -51.47 / longitude: 11.75\n",
      "ping 54 / time: 20:32:06 / latitude: -51.52 / longitude: 12.34\n",
      "ping 55 / time: 20:32:13 / latitude: -51.57 / longitude: 13.03\n",
      "ping 56 / time: 20:32:20 / latitude: -51.61 / longitude: 13.72\n",
      "ping 57 / time: 20:32:27 / latitude: -51.65 / longitude: 14.41\n",
      "ping 58 / time: 20:32:33 / latitude: -51.68 / longitude: 15.01\n",
      "ping 59 / time: 20:32:39 / latitude: -51.7 / longitude: 15.6\n",
      "ping 60 / time: 20:32:46 / latitude: -51.73 / longitude: 16.3\n",
      "ping 61 / time: 20:32:52 / latitude: -51.75 / longitude: 16.9\n",
      "ping 62 / time: 20:32:58 / latitude: -51.76 / longitude: 17.49\n",
      "ping 63 / time: 20:33:05 / latitude: -51.78 / longitude: 18.19\n",
      "ping 64 / time: 20:33:12 / latitude: -51.79 / longitude: 18.89\n",
      "ping 65 / time: 20:33:18 / latitude: -51.79 / longitude: 19.49\n",
      "ping 66 / time: 20:33:24 / latitude: -51.79 / longitude: 20.08\n",
      "ping 67 / time: 20:33:32 / latitude: -51.79 / longitude: 20.88\n",
      "ping 68 / time: 20:33:38 / latitude: -51.78 / longitude: 21.48\n",
      "ping 69 / time: 20:33:44 / latitude: -51.77 / longitude: 22.08\n",
      "ping 70 / time: 20:33:50 / latitude: -51.76 / longitude: 22.68\n",
      "ping 71 / time: 20:33:57 / latitude: -51.74 / longitude: 23.37\n",
      "ping 72 / time: 20:34:03 / latitude: -51.72 / longitude: 23.97\n",
      "ping 73 / time: 20:34:10 / latitude: -51.69 / longitude: 24.66\n",
      "ping 74 / time: 20:34:17 / latitude: -51.66 / longitude: 25.36\n",
      "ping 75 / time: 20:34:24 / latitude: -51.62 / longitude: 26.05\n",
      "ping 76 / time: 20:34:30 / latitude: -51.59 / longitude: 26.64\n",
      "ping 77 / time: 20:34:37 / latitude: -51.54 / longitude: 27.33\n",
      "ping 78 / time: 20:34:43 / latitude: -51.5 / longitude: 27.93\n",
      "ping 79 / time: 20:34:50 / latitude: -51.45 / longitude: 28.61\n",
      "ping 80 / time: 20:34:56 / latitude: -51.4 / longitude: 29.2\n",
      "ping 81 / time: 20:35:02 / latitude: -51.35 / longitude: 29.79\n",
      "ping 82 / time: 20:35:09 / latitude: -51.28 / longitude: 30.47\n",
      "ping 83 / time: 20:35:16 / latitude: -51.21 / longitude: 31.15\n",
      "ping 84 / time: 20:35:23 / latitude: -51.14 / longitude: 31.83\n",
      "ping 85 / time: 20:35:29 / latitude: -51.08 / longitude: 32.41\n",
      "ping 86 / time: 20:35:35 / latitude: -51.01 / longitude: 32.99\n",
      "ping 87 / time: 20:35:42 / latitude: -50.92 / longitude: 33.66\n",
      "ping 88 / time: 20:35:48 / latitude: -50.84 / longitude: 34.24\n",
      "ping 89 / time: 20:35:54 / latitude: -50.77 / longitude: 34.81\n",
      "ping 90 / time: 20:36:00 / latitude: -50.68 / longitude: 35.38\n",
      "ping 91 / time: 20:36:06 / latitude: -50.6 / longitude: 35.95\n",
      "ping 92 / time: 20:36:13 / latitude: -50.5 / longitude: 36.61\n",
      "ping 93 / time: 20:36:19 / latitude: -50.4 / longitude: 37.17\n",
      "ping 94 / time: 20:36:26 / latitude: -50.29 / longitude: 37.82\n",
      "ping 95 / time: 20:36:33 / latitude: -50.18 / longitude: 38.47\n",
      "ping 96 / time: 20:36:39 / latitude: -50.08 / longitude: 39.03\n",
      "ping 97 / time: 20:36:45 / latitude: -49.97 / longitude: 39.58\n",
      "ping 98 / time: 20:36:51 / latitude: -49.87 / longitude: 40.13\n",
      "ping 99 / time: 20:36:57 / latitude: -49.76 / longitude: 40.68\n",
      "ping 100 / time: 20:37:04 / latitude: -49.62 / longitude: 41.32\n"
     ]
    }
   ],
   "source": [
    "iss_data = []\n",
    "\n",
    "for i in range(100):\n",
    "    data = requests.get('https://api.wheretheiss.at/v1/satellites/25544').json()\n",
    "    timestamp = time.strftime('%H:%M:%S', time.localtime(data['timestamp']))\n",
    "    lat = round(data['latitude'], 2)\n",
    "    long = round(data['longitude'], 2)\n",
    "    iss_data.append({\n",
    "        'time': data['timestamp'],\n",
    "        'lat': data['latitude'],\n",
    "        'long': data['longitude']\n",
    "    })\n",
    "\n",
    "    print(f\"ping {i+1} / time: {timestamp} / latitude: {lat} / longitude: {long}\", flush=True)\n",
    "    \n",
    "    time.sleep(5)"
   ]
  },
  {
   "cell_type": "code",
   "execution_count": 3,
   "id": "1def0e4e-b7b5-4cf0-b305-5a93583d1e62",
   "metadata": {},
   "outputs": [
    {
     "data": {
      "image/png": "[encoded data removed]",
      "text/plain": [
       "<Figure size 1000x500 with 1 Axes>"
      ]
     },
     "metadata": {},
     "output_type": "display_data"
    }
   ],
   "source": [
    "lats = [point['lat'] for point in iss_data]\n",
    "longs = [point['long'] for point in iss_data]\n",
    "\n",
    "plt.figure(figsize=(10, 5))\n",
    "plt.plot(longs, lats)\n",
    "plt.title(\"ISS Path\")\n",
    "plt.xlabel(\"Longitude\")\n",
    "plt.ylabel(\"Latitude\")\n",
    "plt.show()"
   ]
  },
  {
   "cell_type": "code",
   "execution_count": null,
   "id": "e89023ae-57a7-4a66-b1f3-c935e93d791e",
   "metadata": {},
   "outputs": [],
   "source": []
  }
 ],
 "metadata": {
  "kernelspec": {
   "display_name": "Python [conda env:base] *",
   "language": "python",
   "name": "conda-base-py"
  },
  "language_info": {
   "codemirror_mode": {
    "name": "ipython",
    "version": 3
   },
   "file_extension": ".py",
   "mimetype": "text/x-python",
   "name": "python",
   "nbconvert_exporter": "python",
   "pygments_lexer": "ipython3",
   "version": "3.12.7"
  }
 },
 "nbformat": 4,
 "nbformat_minor": 5
}
